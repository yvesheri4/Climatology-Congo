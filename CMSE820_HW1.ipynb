{
  "nbformat": 4,
  "nbformat_minor": 0,
  "metadata": {
    "colab": {
      "provenance": [],
      "authorship_tag": "ABX9TyPiLVImmq8oynEiHDelFfsu",
      "include_colab_link": true
    },
    "kernelspec": {
      "name": "python3",
      "display_name": "Python 3"
    },
    "language_info": {
      "name": "python"
    }
  },
  "cells": [
    {
      "cell_type": "markdown",
      "metadata": {
        "id": "view-in-github",
        "colab_type": "text"
      },
      "source": [
        "<a href=\"https://colab.research.google.com/github/yvesheri4/Climatology-Congo/blob/main/CMSE820_HW1.ipynb\" target=\"_parent\"><img src=\"https://colab.research.google.com/assets/colab-badge.svg\" alt=\"Open In Colab\"/></a>"
      ]
    },
    {
      "cell_type": "markdown",
      "source": [
        "\n",
        "## CMSE 820 - Spring 2024\n",
        "### Home work  1\n",
        "### Yves HERI"
      ],
      "metadata": {
        "id": "HqxBuyXjx6Z7"
      }
    },
    {
      "cell_type": "code",
      "execution_count": 196,
      "metadata": {
        "id": "Oirjw2ZWBBy3"
      },
      "outputs": [],
      "source": [
        "import numpy as np\n",
        "import matplotlib.pyplot as plt\n",
        "from numpy.linalg import inv\n",
        "import pandas as pd"
      ]
    },
    {
      "cell_type": "code",
      "source": [
        "size = 16\n",
        "params = {\n",
        "   'axes.labelsize': size,\n",
        "   'font.size': size,\n",
        "   'legend.fontsize': size,\n",
        "   'xtick.labelsize': size,\n",
        "   'ytick.labelsize': size,\n",
        "   'text.usetex': False,\n",
        "   'axes.linewidth':2.75,\n",
        "   'figure.figsize': [5, 5]\n",
        "   }\n",
        "plt.rcParams.update(params)"
      ],
      "metadata": {
        "id": "NuFfSpN0LQ5e"
      },
      "execution_count": 197,
      "outputs": []
    },
    {
      "cell_type": "markdown",
      "source": [
        "## Problem 1\n",
        "\n",
        "Let us assume $\\mathbf{y} = \\mathbf{X}^T\\beta+\\mathbf{\\epsilon}$, where $\\mathbf{X}_i\\in \\mathbb{R}^P$ is not random  and $\\epsilon \\sim \\mathcal{N}(0,1)$. Equivalently we can express the error as\n",
        "\\begin{equation}\n",
        "   \\mathbf{\\epsilon} = \\mathbf{y} - \\mathbf{X}^T\\beta\n",
        "\\end{equation}\n",
        "this error follows a standard normal distribution, then we can express it by\n",
        "\\begin{equation*}\n",
        "    \\mathbf{L}(\\mathbf{\\epsilon}) = \\left(2\\pi\\right)^{-n/2}\\exp{\\left\\{-\\frac{\\mathbf{\\epsilon}^T \\mathbf{\\epsilon}}{2} \\right\\}}\n",
        "\\end{equation*}\n",
        "using \\eqref{eq1} we obtain the likelihood function as a function of $\\beta$\n",
        "\\begin{equation}\n",
        "    \\mathbf{L}(\\beta;X,Y) = \\left(2\\pi\\right)^{-n/2}\\exp{\\left\\{-\\frac{\\left( \\mathbf{y} - \\mathbf{X}^T\\beta \\right)^T \\left( \\mathbf{y} - \\mathbf{X}^T\\beta \\right)}{2} \\right\\}}\n",
        "\\end{equation}\n",
        "Now let write  down the joint log likelihood $\\mathcal{l}(\\beta) = \\log{\\mathbf{L}(\\beta)}$, this gives (ignoring the constant $-(n/2)\\log(2\\pi)$ )\n",
        "\\begin{equation*}\n",
        "    \\mathcal{l}(\\beta) = -\\frac{1}{2}\\left( \\left(\\mathbf{y} - \\mathbf{X}^T\\beta \\right)^T \\left( \\mathbf{y} - \\mathbf{X}^T\\beta \\right) \\right) = -\\frac{1}{2}\\| \\mathbf{y} - \\mathbf{X}^T\\beta \\|^2\n",
        "\\end{equation*}\n",
        "We \\textbf{retrieve the expression of the least-squares method} (notice the negative sign in front). Thus, the maximum likelihood estimate can be found as\n",
        "\\begin{equation}\n",
        "    \\hat{\\beta}^{MLE} = \\text{arg}\\max_\\beta \\mathcal{l}(\\beta) = \\text{arg}\\min_\\beta \\| \\mathbf{y} - \\mathbf{X}^T\\beta \\|^2\n",
        "\\end{equation}\n",
        "Differentiate with respect to $\\beta$ and set the derivative equal to 0 for $\\beta=\\hat{\\beta}^{MLE}$. This yields\n",
        "\\begin{equation}\n",
        "    \\frac{\\partial \\mathcal{l}(\\beta)}{\\partial \\beta} =-2\\mathbf{X}\\mathbf{y} +2\\mathbf{X}\\mathbf{X}^T \\hat{\\beta}^{MLE} = 0\n",
        "\\end{equation}\n",
        "we get the normal equation\n",
        "\\begin{equation}\n",
        "     \\mathbf{X}\\mathbf{X}^T\\hat{\\beta}^{MLE} = \\mathbf{X}\\mathbf{y}\n",
        "\\end{equation}\n",
        "then the maximum likelihood estimate is\n",
        "\\begin{equation}\n",
        "\\hat{\\beta}^{MLE} = \\left(\\mathbf{X}\\mathbf{X}^T\\right)^{-1}\\mathbf{X}\\mathbf{y}\n",
        "\\end{equation}\n",
        "Thus, the maximum likelihood and the ordinary least-squares methods give the same estimates of $\\beta$."
      ],
      "metadata": {
        "id": "EZIz2qAw5zlB"
      }
    },
    {
      "cell_type": "markdown",
      "source": [
        "## Problem 2\n",
        "\n",
        "### Part (a): Show that $\\hat{\\beta}+c\\mathbf{v}$ is a minimizer\n",
        "\n",
        "We consider $\\hat{\\beta}$ to be a minimizer of the least-squares criterion $\\| \\mathbf{y} - \\mathbf{X}^T\\beta \\|^2$ thus\n",
        "\\begin{equation}\n",
        "\\hat{\\beta} = \\text{arg}\\min_\\beta \\| \\mathbf{y} - \\mathbf{X}^T\\beta \\|^2\n",
        "\\end{equation}\n",
        "then for all vector $\\beta_*$ we have\n",
        " \\begin{equation}\n",
        " \\| \\mathbf{y} - \\mathbf{X}^T\\hat{\\beta} \\|^2\\leq\n",
        " \\| \\mathbf{y} - \\mathbf{X}^T\\beta_* \\|^2\n",
        " \\end{equation}\n",
        "now let us consider a given $\\beta_* = \\hat{\\beta}+c\\mathbf{v}$, for $\\mathbf{v}\\in \\mathbb{R}^p$ a vector such that $\\mathbf{X}^T\\mathbf{v} =0$. Thus from  \\eqref{eq7} we get\n",
        " \\begin{equation}\n",
        " \\| \\mathbf{y} - \\mathbf{X}^T\\hat{\\beta} \\|^2\\leq\n",
        " \\| \\mathbf{y} - \\mathbf{X}^T\\left(\\hat{\\beta}+c\\mathbf{v} \\right) \\|^2\n",
        " % \\label{eq7}\n",
        " \\end{equation}\n",
        "expanding the right-hand side we get\n",
        " \\begin{equation}\n",
        " \\| \\mathbf{y} - \\mathbf{X}^T\\hat{\\beta} \\|^2\\leq\n",
        " \\| \\mathbf{y} - \\mathbf{X}^T\\hat{\\beta}-c\\mathbf{X}^T\\mathbf{v} \\|^2\n",
        " % \\label{eq7}\n",
        " \\end{equation}\n",
        " the property  $\\mathbf{X}^T\\mathbf{v} =0$ leads to\n",
        " \\begin{equation}\n",
        " \\| \\mathbf{y} - \\mathbf{X}^T\\hat{\\beta} \\|^2=\n",
        " \\| \\mathbf{y} - \\mathbf{X}^T\\hat{\\beta} \\|^2\n",
        " \\end{equation}\n",
        "this proves that\n",
        " \\begin{equation}\n",
        " \\| \\mathbf{y} - \\mathbf{X}^T\\hat{\\beta} \\|^2=\n",
        " \\| \\mathbf{y} - \\mathbf{X}^T\\beta_* \\|^2\n",
        " \\end{equation}\n",
        "Implying that $\\beta_* = \\hat{\\beta}+c\\mathbf{v}$ is also a minimizer.\n",
        "\n",
        "### Part (b): What $\\mathbf{v}$ satisfy $\\mathbf{X}^T\\mathbf{v}=0$\n",
        "\n",
        "The condition $\\mathbf{X}^T\\mathbf{v} =0$, assuming $x_1,\\dots,x_p$ are linearly independent, implies that for each $i$, the dot product $x_i^T\\mathbf{v}=0$, meaning the vector $\\mathbf{v}$ is orthogonal to each of the vectors $x_i$. In other word the vector $\\mathbf{v}$ has to be perpendicular to the columns space of $\\mathbf{X}^T$.\n",
        "\n",
        "### Part (c):\n"
      ],
      "metadata": {
        "id": "VxnBwdec6jN0"
      }
    },
    {
      "cell_type": "markdown",
      "source": [
        "## Problem 3\n",
        "\n",
        "We consider the following model\n",
        "\\begin{equation}\n",
        "    \\mathbf{y} = \\mathbf{X}^T\\beta + \\mathbf{\\epsilon}\n",
        "\\end{equation}\n",
        "where $\\mathbf{\\epsilon}_i \\sim \\mathcal{N}(0,1)$, $\\mathbf{X}_i \\sim \\mathcal{N}(0,I_{p\\times p})$ and $\\beta \\in \\mathbb{R}^p$ with $\\beta_{[1]}=1$ $\\beta_{[2]}=-2$ and the rest of $\\beta_{[j]}=0$.\n",
        "\\subsubsection*{Part (a): Calculate $\\hat{\\beta}^{ols}$}\n",
        "The ordinary least-squares estimates is expressed as\n",
        "\\begin{equation}\n",
        "\\hat{\\beta}^{ols} = \\left(\\mathbf{X}\\mathbf{X}^T\\right)^{-1}\\mathbf{X}\\mathbf{y}\n",
        "\\end{equation}\n",
        "To obtain this estimate, we initially simulate the $\\mathbf{y}$'s based on the equation \\eqref{eq12}. Using the Python function \\texttt{numpy.random.normal} to generate the error vector with a sample size of 100. And the function \\texttt{numpy.random.multivariate\\_normal} to generate the matrix $\\mathbf{X}$ with 100 columns and $p$ lines. \\\\\n",
        "\n",
        "\\noindent\n",
        "Thus for $p=5$ the ordinary least-squares estimate is shown it the following table\n",
        "\n"
      ],
      "metadata": {
        "id": "63zRufsJ7Mbc"
      }
    },
    {
      "cell_type": "code",
      "source": [
        "def least_square(p,size):\n",
        "  sample_size = size\n",
        "  eps = np.random.normal(0, 1, sample_size)\n",
        "\n",
        "  beta = np.zeros(p)\n",
        "  beta[:2] = 1,-2\n",
        "\n",
        "  mean = np.zeros(p)\n",
        "  cov = np.identity(p)  # diagonal covariance\n",
        "  X = np.random.multivariate_normal(mean, cov, sample_size).T\n",
        "  X[0] = np.ones(sample_size)\n",
        "\n",
        "  Y = X.T@beta + eps\n",
        "  beta_ols = inv(X@X.T)@X@Y\n",
        "\n",
        "  Y_tild = X.T@beta_ols\n",
        "\n",
        "  MSE = np.mean(np.square(Y - Y_tild)) ###\n",
        "\n",
        "  return eps,X,Y,beta_ols,MSE"
      ],
      "metadata": {
        "id": "DLd9V4zVPAN7"
      },
      "execution_count": 198,
      "outputs": []
    },
    {
      "cell_type": "code",
      "source": [
        "p = 5\n",
        "size = 100\n",
        "epsilon,X,Y,beta_ols,PE = least_square(p,size)"
      ],
      "metadata": {
        "id": "4oWNJTvM4odU"
      },
      "execution_count": 199,
      "outputs": []
    },
    {
      "cell_type": "markdown",
      "source": [
        "$ϵ ∼ N(0,1)$ for a sample size of 100."
      ],
      "metadata": {
        "id": "FJW_YLJGzm_7"
      }
    },
    {
      "cell_type": "code",
      "source": [
        "plt.hist(epsilon)\n",
        "plt.ylabel(\"$count$\")\n",
        "plt.xlabel(\"$\\epsilon$\")\n",
        "plt.show()"
      ],
      "metadata": {
        "colab": {
          "base_uri": "https://localhost:8080/",
          "height": 477
        },
        "id": "JhsX3Qg7zk3t",
        "outputId": "8ec81396-3cce-45e1-ed8d-13976e9f8a49"
      },
      "execution_count": 200,
      "outputs": [
        {
          "output_type": "display_data",
          "data": {
            "text/plain": [
              "<Figure size 500x500 with 1 Axes>"
            ],
            "image/png": "[encoded data removed]"
          },
          "metadata": {}
        }
      ]
    },
    {
      "cell_type": "markdown",
      "source": [
        "$X ∼ N(0,I_{p\\times p})$ for a sample size of 100."
      ],
      "metadata": {
        "id": "uD0exfUn6eVI"
      }
    },
    {
      "cell_type": "code",
      "source": [
        "# print(X)"
      ],
      "metadata": {
        "id": "Dvub8RlCytN8"
      },
      "execution_count": 201,
      "outputs": []
    },
    {
      "cell_type": "code",
      "source": [
        "# print(Y)\n",
        "plt.hist(epsilon)\n",
        "plt.ylabel(\"$count$\")\n",
        "plt.xlabel(\"$Y$\")\n",
        "plt.show()"
      ],
      "metadata": {
        "colab": {
          "base_uri": "https://localhost:8080/",
          "height": 477
        },
        "id": "ToGf8ie60k-i",
        "outputId": "64b22083-83c1-4d32-f5ea-1bacb909b7a8"
      },
      "execution_count": 202,
      "outputs": [
        {
          "output_type": "display_data",
          "data": {
            "text/plain": [
              "<Figure size 500x500 with 1 Axes>"
            ],
            "image/png": "[encoded data removed]"
          },
          "metadata": {}
        }
      ]
    },
    {
      "cell_type": "markdown",
      "source": [
        "$$\\hat{\\beta}^{ols} = (XX^T)^{-1}XY $$"
      ],
      "metadata": {
        "id": "ND90UaCK3Vtr"
      }
    },
    {
      "cell_type": "code",
      "source": [
        "beta_ols"
      ],
      "metadata": {
        "id": "3kKFM3UQSZi7",
        "colab": {
          "base_uri": "https://localhost:8080/"
        },
        "outputId": "9805933b-40df-4fc9-b40d-daed7dd7fa03"
      },
      "execution_count": 203,
      "outputs": [
        {
          "output_type": "execute_result",
          "data": {
            "text/plain": [
              "array([ 1.09277299, -2.00896212, -0.10602978,  0.10625047, -0.0261413 ])"
            ]
          },
          "metadata": {},
          "execution_count": 203
        }
      ]
    },
    {
      "cell_type": "markdown",
      "source": [
        "### Part (b): in-sample prediction error ($PE_{in}$)\n",
        "\n",
        "We use the same $\\{\\mathbf{X}_i\\}$ generated from the previous part and we find another vector $\\tilde{\\mathbf{y}}$ using $\\hat{\\beta}^{ols}$ such that\n",
        "\\begin{equation}\n",
        "    \\tilde{\\mathbf{y}} =\\mathbf{X}^T\\hat{\\beta}^{ols}\n",
        "\\end{equation}\n",
        "from this we calculate the in-sample prediction error ($PE_{in}$)\n",
        "\\begin{equation}\n",
        "    PE_{in} = \\mathbb{E}\\left(\\frac{1}{N}\\sum_{i=1}^N \\left(\\mathbf{y}_i - \\tilde{\\mathbf{y}}_i\\right)^2   \\right)\n",
        "\\end{equation}\n",
        "In this part we calculate one realization of $PE_{in}$, we run only one simulation (the expectation in \\eqref{eqPE} is not considered), and obtain"
      ],
      "metadata": {
        "id": "q1kkiJwR79YT"
      }
    },
    {
      "cell_type": "code",
      "source": [
        "PE"
      ],
      "metadata": {
        "colab": {
          "base_uri": "https://localhost:8080/"
        },
        "id": "ym-Komti4JSB",
        "outputId": "e2a67727-7594-4ff3-c404-d7998b75a9e4"
      },
      "execution_count": 204,
      "outputs": [
        {
          "output_type": "execute_result",
          "data": {
            "text/plain": [
              "0.7564112821033352"
            ]
          },
          "metadata": {},
          "execution_count": 204
        }
      ]
    },
    {
      "cell_type": "markdown",
      "source": [
        "### Part (c): in-sample prediction error ($PE_{in}$)\n",
        "\n",
        "We repeat (a) - (b) 5000 times and take average of those 5000 calculated $PE_{in}$. We have\n",
        "an approximate $PE_{in}$ using \\eqref{eqPE}\n",
        "$$\n",
        "PE_{in} = 0.949\n",
        "$$"
      ],
      "metadata": {
        "id": "oYdYsyqV8cZS"
      }
    },
    {
      "cell_type": "markdown",
      "source": [
        "For 5000 simulations, we find\n",
        "$$PE_{in} = E\\left\\{\\frac{1}{N}\\sum_{i=1}^N\\left(y_i - x_i^T\\hat{\\beta}^{ols}  \\right)\\right\\} $$"
      ],
      "metadata": {
        "id": "yQU8n3FP7Z7X"
      }
    },
    {
      "cell_type": "code",
      "source": [
        "num_sim = 5000\n",
        "PE_arr = np.zeros(num_sim)\n",
        "for i in range(num_sim):\n",
        "  PE_arr[i] = least_square(5,100)[4]\n",
        "PE_avg = np.mean(PE_arr)\n",
        "PE_avg"
      ],
      "metadata": {
        "colab": {
          "base_uri": "https://localhost:8080/"
        },
        "id": "nOC7rXs6b_lN",
        "outputId": "02982278-73af-4b13-c6f7-ae0918afbcb9"
      },
      "execution_count": 205,
      "outputs": [
        {
          "output_type": "execute_result",
          "data": {
            "text/plain": [
              "0.9495770206995551"
            ]
          },
          "metadata": {},
          "execution_count": 205
        }
      ]
    },
    {
      "cell_type": "markdown",
      "source": [
        "### Part (d): $PE_{in}$ for $p$=10, 40, 80\n",
        "\n",
        "We repeat the same procedure for $p = 10,\\; 40,\\; 80$. The variation of the in-sample prediction error as a function of $p$ is given in the following figure. The trend is downward; we note a reduction in the in-sample prediction error as the variable $p$ increases. This observation indicates that a more feature-rich dataset leads to improved predictions."
      ],
      "metadata": {
        "id": "x3Cf0s5w8zjH"
      }
    },
    {
      "cell_type": "markdown",
      "source": [
        "We repeat the same procedure for p = 10, 40, 80."
      ],
      "metadata": {
        "id": "yn72eLy_7_NP"
      }
    },
    {
      "cell_type": "code",
      "source": [
        "num_sim = 5000\n",
        "p_ = [5,10,40,80]\n",
        "PE_arr = np.zeros([len(p_),num_sim])\n",
        "PE_avg = np.zeros(len(p_))\n",
        "for j in range(len(p_)):\n",
        "  for i in range(num_sim):\n",
        "    PE_arr[j][i] = least_square(p_[j],100)[4]\n",
        "  PE_avg[j] = np.mean(PE_arr[j])"
      ],
      "metadata": {
        "id": "uQPIh7Rxcwps"
      },
      "execution_count": 206,
      "outputs": []
    },
    {
      "cell_type": "code",
      "source": [
        "print(PE_avg)\n",
        "plt.plot(p_,PE_avg,marker='D',lw=2)\n",
        "plt.ylabel(\"$PE_{in}$\")\n",
        "plt.xlabel(\"$p$\")\n",
        "# plt.xscale(\"log\")"
      ],
      "metadata": {
        "colab": {
          "base_uri": "https://localhost:8080/",
          "height": 514
        },
        "id": "o1mYCGl4eCO8",
        "outputId": "ce4731f7-c0c6-4e2c-a335-23eb0248670d"
      },
      "execution_count": 207,
      "outputs": [
        {
          "output_type": "stream",
          "name": "stdout",
          "text": [
            "[0.9465257  0.90103801 0.59902847 0.19933312]\n"
          ]
        },
        {
          "output_type": "execute_result",
          "data": {
            "text/plain": [
              "Text(0.5, 0, '$p$')"
            ]
          },
          "metadata": {},
          "execution_count": 207
        },
        {
          "output_type": "display_data",
          "data": {
            "text/plain": [
              "<Figure size 500x500 with 1 Axes>"
            ],
            "image/png": "[encoded data removed]"
          },
          "metadata": {}
        }
      ]
    },
    {
      "cell_type": "markdown",
      "source": [
        "We implement the following model using Python\n",
        "\\begin{equation}\n",
        "    y_i = \\beta_{[1]}^*x_{i[1]}+\\beta_{[2]}^*x_{i[2]}+\\epsilon_i\n",
        "\\end{equation}\n",
        "where $\\mathbb{E}(\\epsilon_i)=0$, $\\text{Var}(\\epsilon_i)=1$, $\\text{Cov}(\\epsilon_i,\\epsilon_j)=0$ and $\\beta = (-1,2)^T$. We also assume $x_i\\sim N(0,\\Sigma_x)$ with\n",
        "\\begin{equation}\n",
        "    \\Sigma_x = \\text{Cov}(x_i) =\n",
        "    \\begin{pmatrix}\n",
        "1 & 0.9999\\\\\n",
        "0.9999 & 1\n",
        "    \\end{pmatrix}\n",
        "\\end{equation}\n",
        "We repeat 2000 times the following steps,  with the function \\texttt{numpy.random.multivariate\\_normal} we generate the matrix $\\mathbf{X}$ with 50 columns and $2$ lines then $\\mathbf{y}$ using \\eqref{eq17}. Then obtain the ordinary least-squares estimate using \\eqref{eq14} and the ridge regression estimates as\n",
        "\\begin{equation}\n",
        "\\hat{\\beta}^{ridge} = \\left(\\mathbf{X}\\mathbf{X}^T+\\lambda I\\right)^{-1}\\mathbf{X}\\mathbf{y}\n",
        "\\end{equation}\n",
        "here $\\lambda =0.005$ and $I$ is the $2\\times 2$ indentity matrix.\n",
        "\n",
        "### Part (a): Histograms for $\\hat{\\beta}^{ols}_{[1]}$ and $\\hat{\\beta}^{ridge}_{[1]}$\n",
        "\n",
        "On the following figure we show the histograms  for the first component of $\\hat{\\beta}^{ols}_{[1]}$ and $\\hat{\\beta}^{ridge}_{[1]}$\n",
        "\\noindent\n",
        "For identical matrices $\\mathbf{X}$ and vectors $\\mathbf{y}$, the estimates from ordinary least-squares and ridge regression overlap. This implies that both methods yield equivalent predictions.\n"
      ],
      "metadata": {
        "id": "zY0af1cu9Wtb"
      }
    },
    {
      "cell_type": "code",
      "source": [
        "sample_size = size\n",
        "eps = np.random.normal(0, 1, sample_size)"
      ],
      "metadata": {
        "id": "Zh_devwUfYkn"
      },
      "execution_count": 208,
      "outputs": []
    },
    {
      "cell_type": "code",
      "source": [
        "mean = np.zeros(2)\n",
        "cov = np.array([[1,0.9999],[0.9999,1]])  # diagonal covariance\n",
        "print(cov)\n",
        "X = np.random.multivariate_normal(mean, cov, sample_size).T"
      ],
      "metadata": {
        "id": "xv_oUb44fOFt",
        "colab": {
          "base_uri": "https://localhost:8080/"
        },
        "outputId": "aa04a0c1-b581-4e59-d4fa-f2d22f1e2ffe"
      },
      "execution_count": 209,
      "outputs": [
        {
          "output_type": "stream",
          "name": "stdout",
          "text": [
            "[[1.     0.9999]\n",
            " [0.9999 1.    ]]\n"
          ]
        }
      ]
    },
    {
      "cell_type": "code",
      "source": [
        "def least_square2(size,p=2,Lambda = 0.005):\n",
        "  sample_size = size\n",
        "  eps = np.random.normal(0, 1, sample_size)\n",
        "\n",
        "  beta = np.zeros(p)\n",
        "  beta[:2] = -1,2\n",
        "  # print(beta)\n",
        "\n",
        "  mean = np.zeros(p)\n",
        "  cov = np.array([[1,0.9999],[0.9999,1]])  # diagonal covariance\n",
        "  X = np.random.multivariate_normal([0,0], cov, sample_size).T\n",
        "  # X[0] = np.ones(sample_size)\n",
        "\n",
        "  Y = X.T@beta + eps\n",
        "  beta_ols = inv(X@X.T)@(X@Y)\n",
        "\n",
        "  beta_ridge = inv(X@X.T+Lambda*np.identity(p))@(X@Y)\n",
        "\n",
        "  return beta_ols[0],beta_ridge[0]"
      ],
      "metadata": {
        "id": "4DYyJ7ewgUqz"
      },
      "execution_count": 210,
      "outputs": []
    },
    {
      "cell_type": "code",
      "source": [
        "least_square2(size,p=2,Lambda = 0.005)"
      ],
      "metadata": {
        "colab": {
          "base_uri": "https://localhost:8080/"
        },
        "id": "8YL7GG2wPMA4",
        "outputId": "c98962e2-c8cd-4137-e300-a0d703eb004a"
      },
      "execution_count": 211,
      "outputs": [
        {
          "output_type": "execute_result",
          "data": {
            "text/plain": [
              "(5.088936474769996, 3.3130499954777766)"
            ]
          },
          "metadata": {},
          "execution_count": 211
        }
      ]
    },
    {
      "cell_type": "code",
      "source": [],
      "metadata": {
        "id": "12kHLJYOnFUu"
      },
      "execution_count": 211,
      "outputs": []
    },
    {
      "cell_type": "code",
      "source": [
        "num_sim = 2000\n",
        "\n",
        "beta_ols_arr = np.zeros(num_sim)\n",
        "beta_ridge_arr = np.zeros(num_sim)\n",
        "\n",
        "for i in range(num_sim):\n",
        "  beta_ols_arr[i],beta_ridge_arr[i] = least_square2(50)\n",
        "  # beta_ridge_arr[i] = least_square2(50)[1]\n",
        "\n",
        "plt.hist(beta_ols_arr,alpha=0.5,bins=20,label =\"OLS\")\n",
        "plt.hist(beta_ridge_arr,color=\"red\",alpha=0.25,bins=20,label=\"Ridge\")\n",
        "plt.ylabel(\"$Count$\")\n",
        "plt.xlabel(\"$\\\\beta_{[1]}$\")\n",
        "# plt.xscale(\"log\")\n",
        "\n",
        "plt.legend()"
      ],
      "metadata": {
        "id": "0m3nfuH-hFIo",
        "colab": {
          "base_uri": "https://localhost:8080/",
          "height": 501
        },
        "outputId": "a00b37df-67c2-4df5-cc7b-ca1cc7db8189"
      },
      "execution_count": 212,
      "outputs": [
        {
          "output_type": "execute_result",
          "data": {
            "text/plain": [
              "<matplotlib.legend.Legend at 0x7f2e0f9cc5e0>"
            ]
          },
          "metadata": {},
          "execution_count": 212
        },
        {
          "output_type": "display_data",
          "data": {
            "text/plain": [
              "<Figure size 500x500 with 1 Axes>"
            ],
            "image/png": "[encoded data removed]"
          },
          "metadata": {}
        }
      ]
    },
    {
      "cell_type": "code",
      "source": [
        "count = 0\n",
        "for i in range(num_sim):\n",
        "  if np.abs(-1-beta_ridge_arr[i]) < np.abs(-1-beta_ols_arr[i]):\n",
        "    count += 1\n",
        "\n",
        "print(count)\n"
      ],
      "metadata": {
        "colab": {
          "base_uri": "https://localhost:8080/"
        },
        "id": "9w4g44PmjVZB",
        "outputId": "09133d57-8cb9-4477-f9b5-decf599ba5d3"
      },
      "execution_count": 213,
      "outputs": [
        {
          "output_type": "stream",
          "name": "stdout",
          "text": [
            "1860\n"
          ]
        }
      ]
    }
  ]
}